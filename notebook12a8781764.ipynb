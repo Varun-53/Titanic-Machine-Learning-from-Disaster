{
 "cells": [
  {
   "cell_type": "code",
   "execution_count": 1,
   "id": "9bbbe446",
   "metadata": {
    "_cell_guid": "b1076dfc-b9ad-4769-8c92-a6c4dae69d19",
    "_uuid": "8f2839f25d086af736a60e9eeb907d3b93b6e0e5",
    "execution": {
     "iopub.execute_input": "2021-08-03T16:52:50.442852Z",
     "iopub.status.busy": "2021-08-03T16:52:50.441521Z",
     "iopub.status.idle": "2021-08-03T16:52:51.772426Z",
     "shell.execute_reply": "2021-08-03T16:52:51.771560Z",
     "shell.execute_reply.started": "2021-08-03T16:43:55.140076Z"
    },
    "papermill": {
     "duration": 1.349595,
     "end_time": "2021-08-03T16:52:51.772595",
     "exception": false,
     "start_time": "2021-08-03T16:52:50.423000",
     "status": "completed"
    },
    "tags": []
   },
   "outputs": [],
   "source": [
    "\n",
    "import numpy as np\n",
    "import pandas as pd \n",
    "from sklearn.ensemble import RandomForestClassifier\n"
   ]
  },
  {
   "cell_type": "code",
   "execution_count": 2,
   "id": "3f16e6d2",
   "metadata": {
    "execution": {
     "iopub.execute_input": "2021-08-03T16:52:51.807755Z",
     "iopub.status.busy": "2021-08-03T16:52:51.807054Z",
     "iopub.status.idle": "2021-08-03T16:52:51.821984Z",
     "shell.execute_reply": "2021-08-03T16:52:51.821379Z",
     "shell.execute_reply.started": "2021-08-03T16:43:55.146941Z"
    },
    "papermill": {
     "duration": 0.035099,
     "end_time": "2021-08-03T16:52:51.822130",
     "exception": false,
     "start_time": "2021-08-03T16:52:51.787031",
     "status": "completed"
    },
    "tags": []
   },
   "outputs": [],
   "source": [
    "train_data = pd.read_csv(\"/kaggle/input/titanic/train.csv\")"
   ]
  },
  {
   "cell_type": "code",
   "execution_count": 3,
   "id": "1a44a12e",
   "metadata": {
    "execution": {
     "iopub.execute_input": "2021-08-03T16:52:51.853612Z",
     "iopub.status.busy": "2021-08-03T16:52:51.852963Z",
     "iopub.status.idle": "2021-08-03T16:52:51.889184Z",
     "shell.execute_reply": "2021-08-03T16:52:51.888451Z",
     "shell.execute_reply.started": "2021-08-03T16:43:55.178890Z"
    },
    "papermill": {
     "duration": 0.053126,
     "end_time": "2021-08-03T16:52:51.889331",
     "exception": false,
     "start_time": "2021-08-03T16:52:51.836205",
     "status": "completed"
    },
    "tags": []
   },
   "outputs": [
    {
     "data": {
      "text/html": [
       "<div>\n",
       "<style scoped>\n",
       "    .dataframe tbody tr th:only-of-type {\n",
       "        vertical-align: middle;\n",
       "    }\n",
       "\n",
       "    .dataframe tbody tr th {\n",
       "        vertical-align: top;\n",
       "    }\n",
       "\n",
       "    .dataframe thead th {\n",
       "        text-align: right;\n",
       "    }\n",
       "</style>\n",
       "<table border=\"1\" class=\"dataframe\">\n",
       "  <thead>\n",
       "    <tr style=\"text-align: right;\">\n",
       "      <th></th>\n",
       "      <th>PassengerId</th>\n",
       "      <th>Survived</th>\n",
       "      <th>Pclass</th>\n",
       "      <th>Name</th>\n",
       "      <th>Sex</th>\n",
       "      <th>Age</th>\n",
       "      <th>SibSp</th>\n",
       "      <th>Parch</th>\n",
       "      <th>Ticket</th>\n",
       "      <th>Fare</th>\n",
       "      <th>Cabin</th>\n",
       "      <th>Embarked</th>\n",
       "    </tr>\n",
       "  </thead>\n",
       "  <tbody>\n",
       "    <tr>\n",
       "      <th>0</th>\n",
       "      <td>1</td>\n",
       "      <td>0</td>\n",
       "      <td>3</td>\n",
       "      <td>Braund, Mr. Owen Harris</td>\n",
       "      <td>male</td>\n",
       "      <td>22.0</td>\n",
       "      <td>1</td>\n",
       "      <td>0</td>\n",
       "      <td>A/5 21171</td>\n",
       "      <td>7.2500</td>\n",
       "      <td>NaN</td>\n",
       "      <td>S</td>\n",
       "    </tr>\n",
       "    <tr>\n",
       "      <th>1</th>\n",
       "      <td>2</td>\n",
       "      <td>1</td>\n",
       "      <td>1</td>\n",
       "      <td>Cumings, Mrs. John Bradley (Florence Briggs Th...</td>\n",
       "      <td>female</td>\n",
       "      <td>38.0</td>\n",
       "      <td>1</td>\n",
       "      <td>0</td>\n",
       "      <td>PC 17599</td>\n",
       "      <td>71.2833</td>\n",
       "      <td>C85</td>\n",
       "      <td>C</td>\n",
       "    </tr>\n",
       "    <tr>\n",
       "      <th>2</th>\n",
       "      <td>3</td>\n",
       "      <td>1</td>\n",
       "      <td>3</td>\n",
       "      <td>Heikkinen, Miss. Laina</td>\n",
       "      <td>female</td>\n",
       "      <td>26.0</td>\n",
       "      <td>0</td>\n",
       "      <td>0</td>\n",
       "      <td>STON/O2. 3101282</td>\n",
       "      <td>7.9250</td>\n",
       "      <td>NaN</td>\n",
       "      <td>S</td>\n",
       "    </tr>\n",
       "    <tr>\n",
       "      <th>3</th>\n",
       "      <td>4</td>\n",
       "      <td>1</td>\n",
       "      <td>1</td>\n",
       "      <td>Futrelle, Mrs. Jacques Heath (Lily May Peel)</td>\n",
       "      <td>female</td>\n",
       "      <td>35.0</td>\n",
       "      <td>1</td>\n",
       "      <td>0</td>\n",
       "      <td>113803</td>\n",
       "      <td>53.1000</td>\n",
       "      <td>C123</td>\n",
       "      <td>S</td>\n",
       "    </tr>\n",
       "    <tr>\n",
       "      <th>4</th>\n",
       "      <td>5</td>\n",
       "      <td>0</td>\n",
       "      <td>3</td>\n",
       "      <td>Allen, Mr. William Henry</td>\n",
       "      <td>male</td>\n",
       "      <td>35.0</td>\n",
       "      <td>0</td>\n",
       "      <td>0</td>\n",
       "      <td>373450</td>\n",
       "      <td>8.0500</td>\n",
       "      <td>NaN</td>\n",
       "      <td>S</td>\n",
       "    </tr>\n",
       "  </tbody>\n",
       "</table>\n",
       "</div>"
      ],
      "text/plain": [
       "   PassengerId  Survived  Pclass  \\\n",
       "0            1         0       3   \n",
       "1            2         1       1   \n",
       "2            3         1       3   \n",
       "3            4         1       1   \n",
       "4            5         0       3   \n",
       "\n",
       "                                                Name     Sex   Age  SibSp  \\\n",
       "0                            Braund, Mr. Owen Harris    male  22.0      1   \n",
       "1  Cumings, Mrs. John Bradley (Florence Briggs Th...  female  38.0      1   \n",
       "2                             Heikkinen, Miss. Laina  female  26.0      0   \n",
       "3       Futrelle, Mrs. Jacques Heath (Lily May Peel)  female  35.0      1   \n",
       "4                           Allen, Mr. William Henry    male  35.0      0   \n",
       "\n",
       "   Parch            Ticket     Fare Cabin Embarked  \n",
       "0      0         A/5 21171   7.2500   NaN        S  \n",
       "1      0          PC 17599  71.2833   C85        C  \n",
       "2      0  STON/O2. 3101282   7.9250   NaN        S  \n",
       "3      0            113803  53.1000  C123        S  \n",
       "4      0            373450   8.0500   NaN        S  "
      ]
     },
     "execution_count": 3,
     "metadata": {},
     "output_type": "execute_result"
    }
   ],
   "source": [
    "train_data.head()"
   ]
  },
  {
   "cell_type": "code",
   "execution_count": 4,
   "id": "9dd31e3b",
   "metadata": {
    "execution": {
     "iopub.execute_input": "2021-08-03T16:52:51.924344Z",
     "iopub.status.busy": "2021-08-03T16:52:51.923644Z",
     "iopub.status.idle": "2021-08-03T16:52:51.933139Z",
     "shell.execute_reply": "2021-08-03T16:52:51.933742Z",
     "shell.execute_reply.started": "2021-08-03T16:43:55.200954Z"
    },
    "papermill": {
     "duration": 0.029224,
     "end_time": "2021-08-03T16:52:51.933940",
     "exception": false,
     "start_time": "2021-08-03T16:52:51.904716",
     "status": "completed"
    },
    "tags": []
   },
   "outputs": [],
   "source": [
    "test_data = pd.read_csv(\"/kaggle/input/titanic/test.csv\")"
   ]
  },
  {
   "cell_type": "code",
   "execution_count": 5,
   "id": "b566b770",
   "metadata": {
    "execution": {
     "iopub.execute_input": "2021-08-03T16:52:51.966694Z",
     "iopub.status.busy": "2021-08-03T16:52:51.966003Z",
     "iopub.status.idle": "2021-08-03T16:52:51.983036Z",
     "shell.execute_reply": "2021-08-03T16:52:51.982450Z",
     "shell.execute_reply.started": "2021-08-03T16:43:55.218435Z"
    },
    "papermill": {
     "duration": 0.034164,
     "end_time": "2021-08-03T16:52:51.983180",
     "exception": false,
     "start_time": "2021-08-03T16:52:51.949016",
     "status": "completed"
    },
    "tags": []
   },
   "outputs": [
    {
     "data": {
      "text/html": [
       "<div>\n",
       "<style scoped>\n",
       "    .dataframe tbody tr th:only-of-type {\n",
       "        vertical-align: middle;\n",
       "    }\n",
       "\n",
       "    .dataframe tbody tr th {\n",
       "        vertical-align: top;\n",
       "    }\n",
       "\n",
       "    .dataframe thead th {\n",
       "        text-align: right;\n",
       "    }\n",
       "</style>\n",
       "<table border=\"1\" class=\"dataframe\">\n",
       "  <thead>\n",
       "    <tr style=\"text-align: right;\">\n",
       "      <th></th>\n",
       "      <th>PassengerId</th>\n",
       "      <th>Pclass</th>\n",
       "      <th>Name</th>\n",
       "      <th>Sex</th>\n",
       "      <th>Age</th>\n",
       "      <th>SibSp</th>\n",
       "      <th>Parch</th>\n",
       "      <th>Ticket</th>\n",
       "      <th>Fare</th>\n",
       "      <th>Cabin</th>\n",
       "      <th>Embarked</th>\n",
       "    </tr>\n",
       "  </thead>\n",
       "  <tbody>\n",
       "    <tr>\n",
       "      <th>0</th>\n",
       "      <td>892</td>\n",
       "      <td>3</td>\n",
       "      <td>Kelly, Mr. James</td>\n",
       "      <td>male</td>\n",
       "      <td>34.5</td>\n",
       "      <td>0</td>\n",
       "      <td>0</td>\n",
       "      <td>330911</td>\n",
       "      <td>7.8292</td>\n",
       "      <td>NaN</td>\n",
       "      <td>Q</td>\n",
       "    </tr>\n",
       "    <tr>\n",
       "      <th>1</th>\n",
       "      <td>893</td>\n",
       "      <td>3</td>\n",
       "      <td>Wilkes, Mrs. James (Ellen Needs)</td>\n",
       "      <td>female</td>\n",
       "      <td>47.0</td>\n",
       "      <td>1</td>\n",
       "      <td>0</td>\n",
       "      <td>363272</td>\n",
       "      <td>7.0000</td>\n",
       "      <td>NaN</td>\n",
       "      <td>S</td>\n",
       "    </tr>\n",
       "    <tr>\n",
       "      <th>2</th>\n",
       "      <td>894</td>\n",
       "      <td>2</td>\n",
       "      <td>Myles, Mr. Thomas Francis</td>\n",
       "      <td>male</td>\n",
       "      <td>62.0</td>\n",
       "      <td>0</td>\n",
       "      <td>0</td>\n",
       "      <td>240276</td>\n",
       "      <td>9.6875</td>\n",
       "      <td>NaN</td>\n",
       "      <td>Q</td>\n",
       "    </tr>\n",
       "    <tr>\n",
       "      <th>3</th>\n",
       "      <td>895</td>\n",
       "      <td>3</td>\n",
       "      <td>Wirz, Mr. Albert</td>\n",
       "      <td>male</td>\n",
       "      <td>27.0</td>\n",
       "      <td>0</td>\n",
       "      <td>0</td>\n",
       "      <td>315154</td>\n",
       "      <td>8.6625</td>\n",
       "      <td>NaN</td>\n",
       "      <td>S</td>\n",
       "    </tr>\n",
       "    <tr>\n",
       "      <th>4</th>\n",
       "      <td>896</td>\n",
       "      <td>3</td>\n",
       "      <td>Hirvonen, Mrs. Alexander (Helga E Lindqvist)</td>\n",
       "      <td>female</td>\n",
       "      <td>22.0</td>\n",
       "      <td>1</td>\n",
       "      <td>1</td>\n",
       "      <td>3101298</td>\n",
       "      <td>12.2875</td>\n",
       "      <td>NaN</td>\n",
       "      <td>S</td>\n",
       "    </tr>\n",
       "  </tbody>\n",
       "</table>\n",
       "</div>"
      ],
      "text/plain": [
       "   PassengerId  Pclass                                          Name     Sex  \\\n",
       "0          892       3                              Kelly, Mr. James    male   \n",
       "1          893       3              Wilkes, Mrs. James (Ellen Needs)  female   \n",
       "2          894       2                     Myles, Mr. Thomas Francis    male   \n",
       "3          895       3                              Wirz, Mr. Albert    male   \n",
       "4          896       3  Hirvonen, Mrs. Alexander (Helga E Lindqvist)  female   \n",
       "\n",
       "    Age  SibSp  Parch   Ticket     Fare Cabin Embarked  \n",
       "0  34.5      0      0   330911   7.8292   NaN        Q  \n",
       "1  47.0      1      0   363272   7.0000   NaN        S  \n",
       "2  62.0      0      0   240276   9.6875   NaN        Q  \n",
       "3  27.0      0      0   315154   8.6625   NaN        S  \n",
       "4  22.0      1      1  3101298  12.2875   NaN        S  "
      ]
     },
     "execution_count": 5,
     "metadata": {},
     "output_type": "execute_result"
    }
   ],
   "source": [
    "test_data.head()"
   ]
  },
  {
   "cell_type": "code",
   "execution_count": 6,
   "id": "5a927730",
   "metadata": {
    "execution": {
     "iopub.execute_input": "2021-08-03T16:52:52.021481Z",
     "iopub.status.busy": "2021-08-03T16:52:52.020594Z",
     "iopub.status.idle": "2021-08-03T16:52:52.025750Z",
     "shell.execute_reply": "2021-08-03T16:52:52.026300Z",
     "shell.execute_reply.started": "2021-08-03T16:43:55.237978Z"
    },
    "papermill": {
     "duration": 0.027887,
     "end_time": "2021-08-03T16:52:52.026485",
     "exception": false,
     "start_time": "2021-08-03T16:52:51.998598",
     "status": "completed"
    },
    "tags": []
   },
   "outputs": [],
   "source": [
    "women = train_data.loc[train_data.Sex == 'female'][\"Survived\"]\n"
   ]
  },
  {
   "cell_type": "code",
   "execution_count": 7,
   "id": "914c02a2",
   "metadata": {
    "execution": {
     "iopub.execute_input": "2021-08-03T16:52:52.060504Z",
     "iopub.status.busy": "2021-08-03T16:52:52.059812Z",
     "iopub.status.idle": "2021-08-03T16:52:52.066019Z",
     "shell.execute_reply": "2021-08-03T16:52:52.065334Z",
     "shell.execute_reply.started": "2021-08-03T16:43:55.246952Z"
    },
    "papermill": {
     "duration": 0.024034,
     "end_time": "2021-08-03T16:52:52.066162",
     "exception": false,
     "start_time": "2021-08-03T16:52:52.042128",
     "status": "completed"
    },
    "tags": []
   },
   "outputs": [
    {
     "data": {
      "text/plain": [
       "0.7420382165605095"
      ]
     },
     "execution_count": 7,
     "metadata": {},
     "output_type": "execute_result"
    }
   ],
   "source": [
    "sum(women) / len(women)"
   ]
  },
  {
   "cell_type": "code",
   "execution_count": 8,
   "id": "aa7775a4",
   "metadata": {
    "execution": {
     "iopub.execute_input": "2021-08-03T16:52:52.104565Z",
     "iopub.status.busy": "2021-08-03T16:52:52.103840Z",
     "iopub.status.idle": "2021-08-03T16:52:52.107291Z",
     "shell.execute_reply": "2021-08-03T16:52:52.106640Z",
     "shell.execute_reply.started": "2021-08-03T16:43:55.261903Z"
    },
    "papermill": {
     "duration": 0.025713,
     "end_time": "2021-08-03T16:52:52.107428",
     "exception": false,
     "start_time": "2021-08-03T16:52:52.081715",
     "status": "completed"
    },
    "tags": []
   },
   "outputs": [],
   "source": [
    "women = train_data[train_data.Sex == 'female'].Survived\n",
    "rate_women = sum(women) / len(women)"
   ]
  },
  {
   "cell_type": "code",
   "execution_count": 9,
   "id": "050ea6cf",
   "metadata": {
    "execution": {
     "iopub.execute_input": "2021-08-03T16:52:52.145192Z",
     "iopub.status.busy": "2021-08-03T16:52:52.144456Z",
     "iopub.status.idle": "2021-08-03T16:52:52.146527Z",
     "shell.execute_reply": "2021-08-03T16:52:52.147022Z",
     "shell.execute_reply.started": "2021-08-03T16:43:55.275102Z"
    },
    "papermill": {
     "duration": 0.024333,
     "end_time": "2021-08-03T16:52:52.147200",
     "exception": false,
     "start_time": "2021-08-03T16:52:52.122867",
     "status": "completed"
    },
    "tags": []
   },
   "outputs": [],
   "source": [
    "men = train_data[train_data.Sex == 'male'].Survived\n",
    "rate_men = sum(men) / len(men)"
   ]
  },
  {
   "cell_type": "code",
   "execution_count": 10,
   "id": "3e1b7897",
   "metadata": {
    "execution": {
     "iopub.execute_input": "2021-08-03T16:52:52.181224Z",
     "iopub.status.busy": "2021-08-03T16:52:52.180475Z",
     "iopub.status.idle": "2021-08-03T16:52:52.186686Z",
     "shell.execute_reply": "2021-08-03T16:52:52.187233Z",
     "shell.execute_reply.started": "2021-08-03T16:43:55.289342Z"
    },
    "papermill": {
     "duration": 0.024784,
     "end_time": "2021-08-03T16:52:52.187407",
     "exception": false,
     "start_time": "2021-08-03T16:52:52.162623",
     "status": "completed"
    },
    "tags": []
   },
   "outputs": [
    {
     "name": "stdout",
     "output_type": "stream",
     "text": [
      "% of women who survived: 0.7420382165605095\n",
      "% of men who survived: 0.18890814558058924\n"
     ]
    }
   ],
   "source": [
    "print(\"% of women who survived:\", rate_women)\n",
    "print(\"% of men who survived:\", rate_men)"
   ]
  },
  {
   "cell_type": "code",
   "execution_count": 11,
   "id": "996e675b",
   "metadata": {
    "execution": {
     "iopub.execute_input": "2021-08-03T16:52:52.223376Z",
     "iopub.status.busy": "2021-08-03T16:52:52.222711Z",
     "iopub.status.idle": "2021-08-03T16:52:52.225295Z",
     "shell.execute_reply": "2021-08-03T16:52:52.224689Z",
     "shell.execute_reply.started": "2021-08-03T16:43:55.306954Z"
    },
    "papermill": {
     "duration": 0.022344,
     "end_time": "2021-08-03T16:52:52.225440",
     "exception": false,
     "start_time": "2021-08-03T16:52:52.203096",
     "status": "completed"
    },
    "tags": []
   },
   "outputs": [],
   "source": [
    "target = train_data[\"Survived\"]"
   ]
  },
  {
   "cell_type": "code",
   "execution_count": 12,
   "id": "a262d6b5",
   "metadata": {
    "execution": {
     "iopub.execute_input": "2021-08-03T16:52:52.259774Z",
     "iopub.status.busy": "2021-08-03T16:52:52.259080Z",
     "iopub.status.idle": "2021-08-03T16:52:52.262554Z",
     "shell.execute_reply": "2021-08-03T16:52:52.263183Z",
     "shell.execute_reply.started": "2021-08-03T16:43:55.324986Z"
    },
    "papermill": {
     "duration": 0.022282,
     "end_time": "2021-08-03T16:52:52.263366",
     "exception": false,
     "start_time": "2021-08-03T16:52:52.241084",
     "status": "completed"
    },
    "tags": []
   },
   "outputs": [],
   "source": [
    "features = [\"Pclass\", \"Sex\", \"SibSp\", \"Parch\"]"
   ]
  },
  {
   "cell_type": "code",
   "execution_count": 13,
   "id": "8d086e05",
   "metadata": {
    "execution": {
     "iopub.execute_input": "2021-08-03T16:52:52.299111Z",
     "iopub.status.busy": "2021-08-03T16:52:52.298429Z",
     "iopub.status.idle": "2021-08-03T16:52:52.318510Z",
     "shell.execute_reply": "2021-08-03T16:52:52.317911Z",
     "shell.execute_reply.started": "2021-08-03T16:43:55.340501Z"
    },
    "papermill": {
     "duration": 0.0392,
     "end_time": "2021-08-03T16:52:52.318674",
     "exception": false,
     "start_time": "2021-08-03T16:52:52.279474",
     "status": "completed"
    },
    "tags": []
   },
   "outputs": [],
   "source": [
    "\n",
    "X = pd.get_dummies(train_data[features])\n",
    "X_test = pd.get_dummies(test_data[features])"
   ]
  },
  {
   "cell_type": "code",
   "execution_count": 14,
   "id": "6fb1d7f9",
   "metadata": {
    "execution": {
     "iopub.execute_input": "2021-08-03T16:52:52.358269Z",
     "iopub.status.busy": "2021-08-03T16:52:52.357537Z",
     "iopub.status.idle": "2021-08-03T16:52:52.579644Z",
     "shell.execute_reply": "2021-08-03T16:52:52.580160Z",
     "shell.execute_reply.started": "2021-08-03T16:43:55.365737Z"
    },
    "papermill": {
     "duration": 0.245877,
     "end_time": "2021-08-03T16:52:52.580350",
     "exception": false,
     "start_time": "2021-08-03T16:52:52.334473",
     "status": "completed"
    },
    "tags": []
   },
   "outputs": [],
   "source": [
    "model = RandomForestClassifier(n_estimators=100, max_depth=5, random_state=1)\n",
    "model.fit(X, target)\n",
    "predictions = model.predict(X_test)\n"
   ]
  },
  {
   "cell_type": "code",
   "execution_count": 15,
   "id": "0c445a90",
   "metadata": {
    "execution": {
     "iopub.execute_input": "2021-08-03T16:52:52.618523Z",
     "iopub.status.busy": "2021-08-03T16:52:52.617874Z",
     "iopub.status.idle": "2021-08-03T16:52:52.625337Z",
     "shell.execute_reply": "2021-08-03T16:52:52.624631Z",
     "shell.execute_reply.started": "2021-08-03T16:45:01.560598Z"
    },
    "papermill": {
     "duration": 0.029401,
     "end_time": "2021-08-03T16:52:52.625501",
     "exception": false,
     "start_time": "2021-08-03T16:52:52.596100",
     "status": "completed"
    },
    "tags": []
   },
   "outputs": [],
   "source": [
    "output = pd.DataFrame({'PassengerId': test_data.PassengerId, 'Survived': predictions})\n",
    "output.to_csv('my_submission.csv', index=False)"
   ]
  },
  {
   "cell_type": "code",
   "execution_count": 16,
   "id": "9584a71c",
   "metadata": {
    "execution": {
     "iopub.execute_input": "2021-08-03T16:52:52.667440Z",
     "iopub.status.busy": "2021-08-03T16:52:52.666544Z",
     "iopub.status.idle": "2021-08-03T16:52:52.670438Z",
     "shell.execute_reply": "2021-08-03T16:52:52.670902Z",
     "shell.execute_reply.started": "2021-08-03T16:45:21.805697Z"
    },
    "papermill": {
     "duration": 0.02845,
     "end_time": "2021-08-03T16:52:52.671072",
     "exception": false,
     "start_time": "2021-08-03T16:52:52.642622",
     "status": "completed"
    },
    "tags": []
   },
   "outputs": [
    {
     "data": {
      "text/html": [
       "<div>\n",
       "<style scoped>\n",
       "    .dataframe tbody tr th:only-of-type {\n",
       "        vertical-align: middle;\n",
       "    }\n",
       "\n",
       "    .dataframe tbody tr th {\n",
       "        vertical-align: top;\n",
       "    }\n",
       "\n",
       "    .dataframe thead th {\n",
       "        text-align: right;\n",
       "    }\n",
       "</style>\n",
       "<table border=\"1\" class=\"dataframe\">\n",
       "  <thead>\n",
       "    <tr style=\"text-align: right;\">\n",
       "      <th></th>\n",
       "      <th>PassengerId</th>\n",
       "      <th>Survived</th>\n",
       "    </tr>\n",
       "  </thead>\n",
       "  <tbody>\n",
       "    <tr>\n",
       "      <th>0</th>\n",
       "      <td>892</td>\n",
       "      <td>0</td>\n",
       "    </tr>\n",
       "    <tr>\n",
       "      <th>1</th>\n",
       "      <td>893</td>\n",
       "      <td>1</td>\n",
       "    </tr>\n",
       "    <tr>\n",
       "      <th>2</th>\n",
       "      <td>894</td>\n",
       "      <td>0</td>\n",
       "    </tr>\n",
       "    <tr>\n",
       "      <th>3</th>\n",
       "      <td>895</td>\n",
       "      <td>0</td>\n",
       "    </tr>\n",
       "    <tr>\n",
       "      <th>4</th>\n",
       "      <td>896</td>\n",
       "      <td>1</td>\n",
       "    </tr>\n",
       "  </tbody>\n",
       "</table>\n",
       "</div>"
      ],
      "text/plain": [
       "   PassengerId  Survived\n",
       "0          892         0\n",
       "1          893         1\n",
       "2          894         0\n",
       "3          895         0\n",
       "4          896         1"
      ]
     },
     "execution_count": 16,
     "metadata": {},
     "output_type": "execute_result"
    }
   ],
   "source": [
    "output.head()"
   ]
  }
 ],
 "metadata": {
  "kernelspec": {
   "display_name": "Python 3",
   "language": "python",
   "name": "python3"
  },
  "language_info": {
   "codemirror_mode": {
    "name": "ipython",
    "version": 3
   },
   "file_extension": ".py",
   "mimetype": "text/x-python",
   "name": "python",
   "nbconvert_exporter": "python",
   "pygments_lexer": "ipython3",
   "version": "3.7.10"
  },
  "papermill": {
   "default_parameters": {},
   "duration": 11.399656,
   "end_time": "2021-08-03T16:52:53.398723",
   "environment_variables": {},
   "exception": null,
   "input_path": "__notebook__.ipynb",
   "output_path": "__notebook__.ipynb",
   "parameters": {},
   "start_time": "2021-08-03T16:52:41.999067",
   "version": "2.3.3"
  }
 },
 "nbformat": 4,
 "nbformat_minor": 5
}
